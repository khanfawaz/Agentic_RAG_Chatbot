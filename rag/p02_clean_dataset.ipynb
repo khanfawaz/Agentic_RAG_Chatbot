{
 "cells": [
  {
   "cell_type": "code",
   "execution_count": null,
   "id": "ffc52251",
   "metadata": {},
   "outputs": [],
   "source": [
    "# Load the Dataset\n",
    "\n",
    "import pandas as pd\n",
    "\n",
    "# Set path to the raw dataset\n",
    "file_path = \"../data/raw/wiki_medical_terms.parquet\"\n",
    "\n",
    "# Load the dataset\n",
    "df = pd.read_parquet(file_path)\n",
    "\n",
    "# Optional: Enable full column display\n",
    "pd.set_option('display.max_colwidth', None)\n",
    "\n",
    "#df.head()"
   ]
  },
  {
   "cell_type": "code",
   "execution_count": 10,
   "id": "fdf9ca8e",
   "metadata": {},
   "outputs": [],
   "source": [
    "#df.head()"
   ]
  },
  {
   "cell_type": "code",
   "execution_count": 25,
   "id": "7bf018d2",
   "metadata": {},
   "outputs": [],
   "source": [
    "# Rename specific columns\n",
    "df = df.rename(columns={\n",
    "    \"medical_term\": \"medical_term\",\n",
    "    \"explanation\": \"description\"\n",
    "})"
   ]
  },
  {
   "cell_type": "code",
   "execution_count": 5,
   "id": "55c54091",
   "metadata": {},
   "outputs": [
    {
     "name": "stdout",
     "output_type": "stream",
     "text": [
      "✅ Dataset shape: (6861, 2)\n"
     ]
    }
   ],
   "source": [
    "# Check Dataset Size\n",
    "print(f\"✅ Dataset shape: {df.shape}\")"
   ]
  },
  {
   "cell_type": "code",
   "execution_count": 12,
   "id": "a6c3721c",
   "metadata": {},
   "outputs": [
    {
     "name": "stdout",
     "output_type": "stream",
     "text": [
      "🔍 Null values per column:\n",
      "medical_term    0\n",
      "explanation     0\n",
      "dtype: int64\n"
     ]
    }
   ],
   "source": [
    "# Check for Null Values\n",
    "\n",
    "# Total nulls per column\n",
    "null_counts = df.isnull().sum()\n",
    "\n",
    "print(\"🔍 Null values per column:\")\n",
    "print(null_counts)"
   ]
  },
  {
   "cell_type": "code",
   "execution_count": 13,
   "id": "073e994e",
   "metadata": {},
   "outputs": [
    {
     "name": "stdout",
     "output_type": "stream",
     "text": [
      "🔁 Duplicate rows: 99\n"
     ]
    }
   ],
   "source": [
    "# Check for Duplicates\n",
    "\n",
    "# Check full row duplicates\n",
    "duplicate_rows = df.duplicated().sum()\n",
    "print(f\"🔁 Duplicate rows: {duplicate_rows}\")"
   ]
  },
  {
   "cell_type": "code",
   "execution_count": 14,
   "id": "fdb45979",
   "metadata": {},
   "outputs": [],
   "source": [
    "# Drop full duplicates\n",
    "df = df.drop_duplicates()"
   ]
  },
  {
   "cell_type": "code",
   "execution_count": 15,
   "id": "080e42c9",
   "metadata": {},
   "outputs": [],
   "source": [
    "# Optional: Check duplicates in 'term' or 'definition'\n",
    "if 'term' in df.columns:\n",
    "    print(f\"🔁 Duplicate 'term' entries: {df['term'].duplicated().sum()}\")"
   ]
  },
  {
   "cell_type": "code",
   "execution_count": 17,
   "id": "6ef201ae",
   "metadata": {},
   "outputs": [],
   "source": [
    "# Normalize column names (lowercase + replace spaces with underscores)\n",
    "df.columns = df.columns.str.strip().str.lower().str.replace(\" \", \"_\")"
   ]
  },
  {
   "cell_type": "code",
   "execution_count": 19,
   "id": "0a7feb04",
   "metadata": {},
   "outputs": [],
   "source": [
    "# Strip whitespace from string fields\n",
    "df = df.map(lambda x: x.strip() if isinstance(x, str) else x)"
   ]
  },
  {
   "cell_type": "code",
   "execution_count": 20,
   "id": "486baea8",
   "metadata": {},
   "outputs": [],
   "source": [
    "# Drop rows with any nulls (if critical columns only, filter accordingly)\n",
    "df = df.dropna()"
   ]
  },
  {
   "cell_type": "code",
   "execution_count": 21,
   "id": "00896352",
   "metadata": {},
   "outputs": [
    {
     "name": "stdout",
     "output_type": "stream",
     "text": [
      "✅ Cleaned dataset shape: (6762, 2)\n"
     ]
    }
   ],
   "source": [
    "# Confirm new shape\n",
    "print(f\"✅ Cleaned dataset shape: {df.shape}\")"
   ]
  },
  {
   "cell_type": "code",
   "execution_count": 22,
   "id": "9c687469",
   "metadata": {},
   "outputs": [
    {
     "data": {
      "text/plain": [
       "6762"
      ]
     },
     "execution_count": 22,
     "metadata": {},
     "output_type": "execute_result"
    }
   ],
   "source": [
    "df['medical_term'].nunique()"
   ]
  },
  {
   "cell_type": "code",
   "execution_count": 23,
   "id": "76b8686a",
   "metadata": {},
   "outputs": [],
   "source": [
    "# Drop the duplicates based on the column name\n",
    "df.drop_duplicates(subset=['medical_term'], keep = 'first', inplace=True)"
   ]
  },
  {
   "cell_type": "code",
   "execution_count": 24,
   "id": "8f153f9d",
   "metadata": {},
   "outputs": [
    {
     "name": "stdout",
     "output_type": "stream",
     "text": [
      "(6762, 2)\n"
     ]
    }
   ],
   "source": [
    "# Verify the shape to confirm the dropping of duplicate values\n",
    "print(df.shape)"
   ]
  },
  {
   "cell_type": "code",
   "execution_count": 26,
   "id": "59febde2",
   "metadata": {},
   "outputs": [
    {
     "name": "stdout",
     "output_type": "stream",
     "text": [
      "Rows with empty or whitespace-only 'description':\n",
      "     medical_term description\n",
      "6834  Involvement            \n"
     ]
    }
   ],
   "source": [
    "# Check for rows where 'description' is empty or contains only whitespace\n",
    "empty_descriptions = df[df['description'].str.strip().astype(bool) == False]\n",
    "print(\"Rows with empty or whitespace-only 'description':\")\n",
    "print(empty_descriptions)"
   ]
  },
  {
   "cell_type": "code",
   "execution_count": 27,
   "id": "96584604",
   "metadata": {},
   "outputs": [
    {
     "name": "stdout",
     "output_type": "stream",
     "text": [
      "medical_term    Involvement\n",
      "description                \n",
      "Name: 6834, dtype: object\n"
     ]
    }
   ],
   "source": [
    "# confirming the row id 6834 has an empty description cell\n",
    "row_6834 = df.loc[6834]\n",
    "print(row_6834)"
   ]
  },
  {
   "cell_type": "code",
   "execution_count": 28,
   "id": "d762ff4d",
   "metadata": {},
   "outputs": [],
   "source": [
    "# Remove rows and columns with empty or invalid entries\n",
    "df = df[df['medical_term'].str.strip().astype(bool)]\n",
    "df = df[df['description'].str.strip().astype(bool)]"
   ]
  },
  {
   "cell_type": "code",
   "execution_count": 29,
   "id": "51bd4cd8",
   "metadata": {},
   "outputs": [],
   "source": [
    "# Step 1: # Standardise Text Data\n",
    "# Clean and normalise text fields for consistency.\n",
    "\n",
    "import re\n",
    "\n",
    "# Function to clean and normalise text\n",
    "def clean_text(text):\n",
    "    text = text.lower()  # Convert to lowercase\n",
    "    text = re.sub(r'\\s+', ' ', text)  # Remove extra whitespaces\n",
    "    return text\n",
    "\n",
    "# Apply to relevant columns\n",
    "df['medical_term'] = df['medical_term'].apply(clean_text)\n",
    "df['description'] = df['description'].apply(clean_text)"
   ]
  },
  {
   "cell_type": "code",
   "execution_count": 30,
   "id": "3fd40453",
   "metadata": {},
   "outputs": [
    {
     "name": "stdout",
     "output_type": "stream",
     "text": [
      "(6761, 2)\n",
      "<class 'pandas.core.frame.DataFrame'>\n",
      "Index: 6761 entries, 0 to 7275\n",
      "Data columns (total 2 columns):\n",
      " #   Column        Non-Null Count  Dtype \n",
      "---  ------        --------------  ----- \n",
      " 0   medical_term  6761 non-null   object\n",
      " 1   description   6761 non-null   object\n",
      "dtypes: object(2)\n",
      "memory usage: 158.5+ KB\n",
      "None\n"
     ]
    }
   ],
   "source": [
    "print(df.shape)\n",
    "print(df.info())"
   ]
  },
  {
   "cell_type": "code",
   "execution_count": 31,
   "id": "912a741d",
   "metadata": {},
   "outputs": [
    {
     "name": "stdout",
     "output_type": "stream",
     "text": [
      "📁 Cleaned data saved to: ../data/cleaned/wiki_medical_terms_cleaned.csv\n"
     ]
    }
   ],
   "source": [
    "# Save cleaned dataset\n",
    "cleaned_path = \"../data/cleaned/wiki_medical_terms_cleaned.csv\"\n",
    "df.to_csv(cleaned_path, index=False)\n",
    "\n",
    "print(f\"📁 Cleaned data saved to: {cleaned_path}\")"
   ]
  }
 ],
 "metadata": {
  "kernelspec": {
   "display_name": "Python 3",
   "language": "python",
   "name": "python3"
  },
  "language_info": {
   "codemirror_mode": {
    "name": "ipython",
    "version": 3
   },
   "file_extension": ".py",
   "mimetype": "text/x-python",
   "name": "python",
   "nbconvert_exporter": "python",
   "pygments_lexer": "ipython3",
   "version": "3.13.2"
  }
 },
 "nbformat": 4,
 "nbformat_minor": 5
}
